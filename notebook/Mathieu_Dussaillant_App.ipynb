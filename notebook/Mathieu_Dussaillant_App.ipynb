{
 "cells": [
  {
   "cell_type": "markdown",
   "metadata": {},
   "source": [
    "# DicoCo\n",
    "\n",
    "*Mathieu Dussaillant*"
   ]
  },
  {
   "cell_type": "code",
   "execution_count": 1,
   "metadata": {},
   "outputs": [],
   "source": [
    "import re\n",
    "import pandas as pd\n",
    "from IPython.display import clear_output, HTML, Markdown \n",
    "import ipywidgets as widgets\n",
    "from IPython import display\n",
    "from requests_html import HTMLSession\n",
    "from bs4 import BeautifulSoup\n",
    "import re\n"
   ]
  },
  {
   "cell_type": "code",
   "execution_count": 2,
   "metadata": {},
   "outputs": [],
   "source": [
    "dfDicoBuch = pd.read_csv(\"./../data/dictionary/DFfin.csv\", delimiter=\";\", encoding=\"utf8\" )"
   ]
  },
  {
   "cell_type": "code",
   "execution_count": 3,
   "metadata": {},
   "outputs": [],
   "source": [
    "# préciser le chemin du fichier à lire\n",
    "cheminDuFichierCSV = \"./../data/dataframe/BigiRichFull2.csv\" \n",
    "\n",
    "# demander à pandas de lire le fichier et garder ce tableau accessible dans une variable\n",
    "dfDicoBigiFull = pd.read_csv(cheminDuFichierCSV, delimiter=\";\", encoding=\"utf8\")"
   ]
  },
  {
   "cell_type": "code",
   "execution_count": 5,
   "metadata": {},
   "outputs": [],
   "source": [
    "dfFin = dfDicoBuch.merge(dfDicoBigiFull,how='left', left_on='headword', right_on='hwd')"
   ]
  },
  {
   "cell_type": "code",
   "execution_count": 7,
   "metadata": {},
   "outputs": [],
   "source": [
    "# import necessaire à la création des widgets\n"
   ]
  },
  {
   "cell_type": "code",
   "execution_count": 8,
   "metadata": {},
   "outputs": [],
   "source": [
    "def filtDf(strHwd):    \n",
    "    dfDicoBuchFiltered = dfFin[dfFin['headword'].str.contains(strHwd, na=False,flags=re.IGNORECASE, regex=True)]\n",
    "    \n",
    "    return dfDicoBuchFiltered"
   ]
  },
  {
   "cell_type": "code",
   "execution_count": 9,
   "metadata": {},
   "outputs": [],
   "source": [
    "def getMp3(word):\n",
    "    session = HTMLSession()\n",
    "    response = session.get(\"https://www.ldoceonline.com/dictionary/\"+word)\n",
    "    soup = BeautifulSoup(response.text,'html.parser')\n",
    "    souplettesBody = soup.find('body')\n",
    "    \n",
    "    finded3 = souplettesBody.findAll('span',{\"class\":re.compile('(frequent )*Head')})\n",
    "    \n",
    "    listmp3Br = []\n",
    "    listmp3Am = []\n",
    "    listPOS = []\n",
    "    listPRON = []\n",
    "    \n",
    "    for v in finded3:\n",
    "        if v.find('span', {'class':'POS'}) is not None:\n",
    "            soupletteV = v.find('span',{\"class\":\"POS\"})\n",
    "            vJPG = soupletteV.text.strip()\n",
    "            listPOS.append(vJPG)\n",
    "\n",
    "        if v.find('span', {'class':'PRON'}) is not None:\n",
    "            pronV = v.find('span',{\"class\":\"PRON\"})\n",
    "            vPRON = pronV.text.strip()\n",
    "            listPRON.append(vPRON)\n",
    "            \n",
    "        spans = v.findAll('span')\n",
    "        for span in spans:\n",
    "            if span.has_attr('data-src-mp3'):\n",
    "                if 'British' in span['title']:\n",
    "                    listmp3Br.append(span['data-src-mp3'].split('?', 1)[0])\n",
    "                if 'American' in span['title']:\n",
    "                    listmp3Am.append(span['data-src-mp3'].split('?', 1)[0])\n",
    "                    \n",
    "        \n",
    "        \n",
    "    \n",
    "    listMots = len(listPOS) * [word]\n",
    "    \n",
    "    while (len(listPRON) < len(listPOS)):\n",
    "        listPRON.append(listPRON[0])\n",
    "\n",
    "    dfResults = pd.DataFrame(list(zip(listMots, listPOS, listPRON, listmp3Br, listmp3Am)),\n",
    "                    columns = ['WORD', 'POS', 'PRON', 'MP3br', 'MP3us'])\n",
    "\n",
    "    return dfResults"
   ]
  },
  {
   "cell_type": "code",
   "execution_count": 10,
   "metadata": {},
   "outputs": [],
   "source": [
    "# definition du widget permettant de taper un texte \n",
    "textTarget = widgets.Text(\n",
    "       value=\"love\",\n",
    "       description='filtre hwd',\n",
    "       layout={'width': '300px'} )"
   ]
  },
  {
   "cell_type": "code",
   "execution_count": 11,
   "metadata": {},
   "outputs": [],
   "source": [
    "# définition du widget button permettant de lancer l'extraction\n",
    "button = widgets.Button(description='Démarrer')\n",
    "c_slider = widgets.IntSlider(min=0, max=20, step=1, value=2, description='Max occ:')\n",
    "# définition du widget permettant l'affichage d'une sortie\n",
    "out1 = widgets.Output()\n",
    "out2 = widgets.Output()\n",
    "out3 = widgets.Output()\n",
    "\n",
    "# spécifier les actions à réaliser lors de l'appui sur le bouton\n",
    "def on_button_clicked(param=''):\n",
    "    \n",
    "    # récupérer le texte saisi par l'utilisateur\n",
    "    targetWord = textTarget.value\n",
    "\n",
    "    with out1:\n",
    "        clear_output()\n",
    "        \n",
    "    with out2:\n",
    "        clear_output()\n",
    "        display.display(filtDf(targetWord).head(c_slider.value))\n",
    "        \n",
    "    with out3:\n",
    "        clear_output()\n",
    "        for word in filtDf(targetWord)['headword'].head(c_slider.value):\n",
    "            dfWord = getMp3(word)\n",
    "            \n",
    "            for i in range(len(dfWord)):\n",
    "                display.display(HTML(' Word : <b>'+dfWord.iloc[i]['WORD']+'</b>'))\n",
    "                display.display(HTML(' POS : '+dfWord.iloc[i]['POS']))\n",
    "                display.display(HTML(' PRON : '+dfWord.iloc[i]['PRON']))\n",
    "                display.display(HTML('Prononciation <b>britanique</b>'))\n",
    "                display.display(display.Audio(url=dfWord.iloc[i]['MP3br']))\n",
    "                display.display(HTML('Prononciation <b>américaine</b>'))\n",
    "                display.display(display.Audio(url=dfWord.iloc[i]['MP3us']))\n",
    "\n",
    "        \n",
    "        \n",
    "        \n",
    "button.on_click(on_button_clicked)"
   ]
  },
  {
   "cell_type": "code",
   "execution_count": 12,
   "metadata": {
    "scrolled": false
   },
   "outputs": [
    {
     "data": {
      "application/vnd.jupyter.widget-view+json": {
       "model_id": "27562cd2d3be46f8ac21a96004b48007",
       "version_major": 2,
       "version_minor": 0
      },
      "text/plain": [
       "VBox(children=(HBox(children=(Text(value='love', description='filtre hwd', layout=Layout(width='300px')), Butt…"
      ]
     },
     "metadata": {},
     "output_type": "display_data"
    }
   ],
   "source": [
    "# les widgets de filtre input\n",
    "vbFiltres = widgets.HBox([textTarget, button,c_slider])\n",
    "\n",
    "# les widgets d'output\n",
    "vbOuts = widgets.VBox([out1,out2, out3])\n",
    "\n",
    "hbAllWidgets = widgets.VBox([vbFiltres,vbOuts])\n",
    "hbAllWidgets"
   ]
  }
 ],
 "metadata": {
  "kernelspec": {
   "display_name": "Python 3",
   "language": "python",
   "name": "python3"
  },
  "language_info": {
   "codemirror_mode": {
    "name": "ipython",
    "version": 3
   },
   "file_extension": ".py",
   "mimetype": "text/x-python",
   "name": "python",
   "nbconvert_exporter": "python",
   "pygments_lexer": "ipython3",
   "version": "3.7.4"
  }
 },
 "nbformat": 4,
 "nbformat_minor": 4
}
